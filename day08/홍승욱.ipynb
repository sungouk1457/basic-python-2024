{
 "cells": [
  {
   "cell_type": "markdown",
   "metadata": {},
   "source": [
    "## 1번 문제"
   ]
  },
  {
   "cell_type": "code",
   "execution_count": 1,
   "metadata": {},
   "outputs": [
    {
     "data": {
      "text/plain": [
       "78.5398"
      ]
     },
     "execution_count": 1,
     "metadata": {},
     "output_type": "execute_result"
    }
   ],
   "source": [
    "# 1번 문제\n",
    "a = int(input('정수를 입력하세요 : '))\n",
    "p = 3.141592\n",
    "radius = a*a*p\n",
    "radius"
   ]
  },
  {
   "cell_type": "code",
   "execution_count": 3,
   "metadata": {},
   "outputs": [
    {
     "name": "stdout",
     "output_type": "stream",
     "text": [
      "원의 넓이는 78.53981633974483\n"
     ]
    }
   ],
   "source": [
    "import math\n",
    "\n",
    "radius = int(input('반지름 입력 : '))\n",
    "print(f'원의 넓이는 {radius * radius * math.pi}')"
   ]
  },
  {
   "cell_type": "markdown",
   "metadata": {},
   "source": [
    "## 2번 문제"
   ]
  },
  {
   "cell_type": "code",
   "execution_count": 3,
   "metadata": {},
   "outputs": [
    {
     "name": "stdout",
     "output_type": "stream",
     "text": [
      "지구\n"
     ]
    }
   ],
   "source": [
    "# 2번 문제\n",
    "a = input('행성 이름을 입력하세요 : ')\n",
    "if a == 'MeMercury':\n",
    "    print('수성')\n",
    "elif a == 'Venus':\n",
    "    print('금성')\n",
    "elif a == 'Earth':\n",
    "    print('지구')\n",
    "elif a == 'Mars':\n",
    "    print('화성')\n",
    "elif a == 'Jupiter':\n",
    "    print('목성')\n",
    "elif a == 'Saturn':\n",
    "    print('토성')\n",
    "elif a == 'Uranus':\n",
    "    print('천왕성')\n",
    "elif a == 'Neptune':\n",
    "    print('해왕성')\n",
    "else:\n",
    "    ('잘못입력했습니다')\n"
   ]
  },
  {
   "cell_type": "code",
   "execution_count": 5,
   "metadata": {},
   "outputs": [
    {
     "name": "stdout",
     "output_type": "stream",
     "text": [
      "Earth\n"
     ]
    }
   ],
   "source": [
    "solar = {'수성':'MeMercury','금성':'Venus','지구':'Earth',\n",
    "         '화성':'Mars','목성':'Jupiter','토성':'Saturn','천왕성':'Uranus','해왕성':'Neptune'}\n",
    "kname = input('행성이름 입력 : ')\n",
    "print(solar[kname])"
   ]
  },
  {
   "cell_type": "markdown",
   "metadata": {},
   "source": [
    "## 3번 문제"
   ]
  },
  {
   "cell_type": "code",
   "execution_count": 15,
   "metadata": {},
   "outputs": [
    {
     "name": "stdout",
     "output_type": "stream",
     "text": [
      "I'm going to leave the door open = 7\n",
      "I'm GOING to LEAVE the DOOR open \n"
     ]
    }
   ],
   "source": [
    "# 3번 문제\n",
    "a = input('문장을 입력하세요')\n",
    "new_a = a.split(' ')\n",
    "print(f'{a} = {len(new_a)}')\n",
    "new_words = ''\n",
    "for i in range(len(new_a)):\n",
    "    if i % 2 == 0:\n",
    "        new_words += new_a[i]\n",
    "    else:\n",
    "        new_words += new_a[i].upper()\n",
    "    new_words += ' '\n",
    "print(new_words)"
   ]
  },
  {
   "cell_type": "code",
   "execution_count": 6,
   "metadata": {},
   "outputs": [
    {
     "name": "stdout",
     "output_type": "stream",
     "text": [
      "I'm going to leave the door open = 7\n",
      "I'm GOING to LEAVE the DOOR open "
     ]
    }
   ],
   "source": [
    "a = input('문장을 입력하세요')\n",
    "new_a = a.split(' ')\n",
    "print(f'{a} = {len(new_a)}')\n",
    "num = 1\n",
    "for i in new_a:\n",
    "    if (num % 2 == 0):\n",
    "        print(i.upper(),end=' ')\n",
    "    else:\n",
    "        print(i,end=' ')\n",
    "    num += 1"
   ]
  },
  {
   "cell_type": "markdown",
   "metadata": {},
   "source": [
    "## 4번 문제"
   ]
  },
  {
   "cell_type": "code",
   "execution_count": 2,
   "metadata": {},
   "outputs": [
    {
     "name": "stdout",
     "output_type": "stream",
     "text": [
      "www.google.com\n"
     ]
    }
   ],
   "source": [
    "# 4번 문제\n",
    "def get_url(x) :\n",
    "    url = \"www.\" + x + \".com\"\n",
    "    return url\n",
    "a = input('사이트를 입력하세요 : ')\n",
    "print(get_url(a))"
   ]
  },
  {
   "cell_type": "code",
   "execution_count": null,
   "metadata": {},
   "outputs": [],
   "source": [
    "def get_url(name):\n",
    "    return f'www.{name}.com'\n",
    "inname = input('웹사이트 입력: ')\n",
    "url = get_url('google')\n",
    "print(url)"
   ]
  },
  {
   "cell_type": "markdown",
   "metadata": {},
   "source": [
    "## 5번 문제"
   ]
  },
  {
   "cell_type": "code",
   "execution_count": 16,
   "metadata": {},
   "outputs": [
    {
     "name": "stdout",
     "output_type": "stream",
     "text": [
      "5단 --> 5 10 15 20 25 30 35 40 45 "
     ]
    }
   ],
   "source": [
    "# 5번 문제\n",
    "a = int(input('숫자를 입력하세요 : '))\n",
    "print(f'{a}단 -->',end=' ')\n",
    "for i in range(1,10):\n",
    "    print(a*i,end= ' ')"
   ]
  }
 ],
 "metadata": {
  "kernelspec": {
   "display_name": "Python 3",
   "language": "python",
   "name": "python3"
  },
  "language_info": {
   "codemirror_mode": {
    "name": "ipython",
    "version": 3
   },
   "file_extension": ".py",
   "mimetype": "text/x-python",
   "name": "python",
   "nbconvert_exporter": "python",
   "pygments_lexer": "ipython3",
   "version": "3.11.5"
  }
 },
 "nbformat": 4,
 "nbformat_minor": 2
}
