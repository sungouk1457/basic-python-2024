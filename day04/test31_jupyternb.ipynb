{
 "cells": [
  {
   "cell_type": "markdown",
   "metadata": {},
   "source": [
    "# 주피터 노트북\n",
    "## 주피터 노트북 개요\n",
    "주피터 노트북(Jupyter Notebook)에 대한 학습\n",
    "\n",
    "### Jupyter Notebook 이란?\n",
    "- 2015년 주피터 제단에서 만든 오픈소스 과학연구 목적 개발 플랫폼\n",
    "- https://jupyter.org/"
   ]
  },
  {
   "cell_type": "markdown",
   "metadata": {},
   "source": [
    "### Jupyter Notebook 시작\n",
    "- VS Code -> 보기 -> 명령 팔레트...(Ctrl + Shift + P) 시작\n",
    "- Create : 새 주피터 노트북 클릭\n",
    "- Untitled_1.ipynb를 저장\n",
    "\n"
   ]
  },
  {
   "cell_type": "markdown",
   "metadata": {},
   "source": [
    "### 주피터 노트북 영역\n",
    "- 코드 : 파이썬 등 소스코드 작성, 실행 공간\n",
    "- 마크다운 : 마크다운 설명 작성 공간"
   ]
  },
  {
   "cell_type": "markdown",
   "metadata": {},
   "source": [
    "#### 출력\n",
    "- Ctrl + F5 실행은 안함 (터미널 사용하지 않음)\n",
    "- print() 함수는 옵션(단 노트북에사먼 허용 .py에서는 반드시 print() 사용)"
   ]
  },
  {
   "cell_type": "markdown",
   "metadata": {},
   "source": [
    "### 주피터 노트북 단축키\n",
    "- 셀 선택모드\n",
    "    - b : 아래에 새로운 셀 추가\n",
    "    - m : 마크다운 셀로 변경\n",
    "    - y : 코드 셀로 변경\n",
    "    - Shift + L : 셀에 라인번호 토글\n",
    "- 코드 입력모em\n",
    "    - Ctrl + Alt + Enter : 마크다운은 종료, 코드셀 실행\n",
    "    - Shift + Enter : 현재 셀 닫고, 아래에 새로운 셀을 생성\n",
    "    - Ctrl + / : 주석처리"
   ]
  },
  {
   "cell_type": "markdown",
   "metadata": {},
   "source": [
    "### 콘솔 실행\n",
    "```shell\n",
    " - ! pip install|uninstall|lists 패키지명\n",
    "```"
   ]
  },
  {
   "cell_type": "code",
   "execution_count": 11,
   "metadata": {},
   "outputs": [
    {
     "name": "stdout",
     "output_type": "stream",
     "text": [
      "Requirement already satisfied: beautifulsoup4 in c:\\dev\\langs\\python311\\lib\\site-packages (4.12.3)\n",
      "Requirement already satisfied: soupsieve>1.2 in c:\\dev\\langs\\python311\\lib\\site-packages (from beautifulsoup4) (2.5)\n"
     ]
    },
    {
     "name": "stderr",
     "output_type": "stream",
     "text": [
      "\n",
      "[notice] A new release of pip is available: 23.2.1 -> 23.3.2\n",
      "[notice] To update, run: python.exe -m pip install --upgrade pip\n"
     ]
    }
   ],
   "source": [
    "# 파이썬 모듈 설치\n",
    "!pip install beautifulsoup4"
   ]
  },
  {
   "cell_type": "markdown",
   "metadata": {},
   "source": [
    "### 주피터 노트북 작업 방법\n",
    "- 코드셀 분리\n",
    "    - 모듈추가(import) 한곳에 모음\n",
    "    - 로직에 영역별로 코드셀 분리 작업\n",
    "#### 파일경로 테스트\n",
    "``` python\n",
    "import sys\n",
    "```"
   ]
  },
  {
   "cell_type": "code",
   "execution_count": 14,
   "metadata": {},
   "outputs": [],
   "source": [
    "#모듈추가\n",
    "import os\n",
    "import sys"
   ]
  },
  {
   "cell_type": "markdown",
   "metadata": {},
   "source": [
    "실행경로 확인"
   ]
  },
  {
   "cell_type": "code",
   "execution_count": 16,
   "metadata": {},
   "outputs": [
    {
     "data": {
      "text/plain": [
       "'c:\\\\DEV\\\\Langs\\\\Python311\\\\python.exe'"
      ]
     },
     "execution_count": 16,
     "metadata": {},
     "output_type": "execute_result"
    }
   ],
   "source": [
    "# 사용중인 파이썬의 실제 경로\n",
    "sys.executable"
   ]
  },
  {
   "cell_type": "markdown",
   "metadata": {},
   "source": [
    "#### 주피터 노트북의 특징\n",
    "- 코드셀 하나에서는 변수명만 적으면 제일 마지막 값만 출력\n",
    "- 다 출력하고 싶으면 print() 써야함"
   ]
  },
  {
   "cell_type": "code",
   "execution_count": 17,
   "metadata": {},
   "outputs": [
    {
     "data": {
      "text/plain": [
       "['c:\\\\Sources\\\\basic-python-2024\\\\day04',\n",
       " 'c:\\\\DEV\\\\Langs\\\\Python311\\\\python311.zip',\n",
       " 'c:\\\\DEV\\\\Langs\\\\Python311\\\\DLLs',\n",
       " 'c:\\\\DEV\\\\Langs\\\\Python311\\\\Lib',\n",
       " 'c:\\\\DEV\\\\Langs\\\\Python311',\n",
       " '',\n",
       " 'C:\\\\Users\\\\user\\\\AppData\\\\Roaming\\\\Python\\\\Python311\\\\site-packages',\n",
       " 'C:\\\\Users\\\\user\\\\AppData\\\\Roaming\\\\Python\\\\Python311\\\\site-packages\\\\win32',\n",
       " 'C:\\\\Users\\\\user\\\\AppData\\\\Roaming\\\\Python\\\\Python311\\\\site-packages\\\\win32\\\\lib',\n",
       " 'C:\\\\Users\\\\user\\\\AppData\\\\Roaming\\\\Python\\\\Python311\\\\site-packages\\\\Pythonwin',\n",
       " 'c:\\\\DEV\\\\Langs\\\\Python311\\\\Lib\\\\site-packages']"
      ]
     },
     "execution_count": 17,
     "metadata": {},
     "output_type": "execute_result"
    }
   ],
   "source": [
    "print(sys.executable)\n",
    "print(sys.flags)"
   ]
  },
  {
   "cell_type": "markdown",
   "metadata": {},
   "source": [
    "#### 디버깅\n",
    "- 중단점은 동일\n",
    "- 디버깅은 디버그셀 Ctrl + Shift + Alt + Enter (F5 누르면 안됨)\n",
    "- 디버그 종료는 코드셀 왼쪽의 네모아이콘 클릭"
   ]
  },
  {
   "cell_type": "markdown",
   "metadata": {},
   "source": []
  }
 ],
 "metadata": {
  "kernelspec": {
   "display_name": "Python 3",
   "language": "python",
   "name": "python3"
  },
  "language_info": {
   "codemirror_mode": {
    "name": "ipython",
    "version": 3
   },
   "file_extension": ".py",
   "mimetype": "text/x-python",
   "name": "python",
   "nbconvert_exporter": "python",
   "pygments_lexer": "ipython3",
   "version": "3.11.5"
  }
 },
 "nbformat": 4,
 "nbformat_minor": 2
}
